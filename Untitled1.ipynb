{
 "cells": [
  {
   "cell_type": "raw",
   "metadata": {},
   "source": [
    "time complexity input size\n",
    "O(1) trick question\n",
    "O(log n)   n <= 10^30.000.000\n",
    "O(sqrt n)  n <= 10^16\n",
    "O(n)       n <= 10^8\n",
    "O(n log n) n <= 10^6\n",
    "O(n^2)     n <= 5000\n",
    "O(n^3)     n <= 300\n",
    "O(2^n)     n <= 25\n",
    "O(n!)      n <= 10"
   ]
  },
  {
   "cell_type": "code",
   "execution_count": 2,
   "metadata": {},
   "outputs": [],
   "source": [
    "import pandas as pd\n",
    "import random\n",
    "import numpy as np"
   ]
  },
  {
   "cell_type": "code",
   "execution_count": 8,
   "metadata": {},
   "outputs": [],
   "source": [
    "# generating test cases for rb\n",
    "for i in [10, 50, 100, 500, 1000, 2500, 5000]:#, 10000, 25000, 50000, 100000, 150000, 200000,\n",
    "          #250000, 500000, 750000, 1000000, 2500000, 5000000]:\n",
    "    s = i\n",
    "    keys       = np.random.default_rng().choice(s*100, size=s, replace=False)\n",
    "    quantities = np.random.default_rng().choice(200,   size=s, replace=True)\n",
    "    file = open(f'testCases/rb{i}.txt', 'w')\n",
    "    file.write(str(i) + f\" {round(-35.282001, 3)} {round(149.128998, 3)} Canberra\" + \"\\n\")\n",
    "    for j in range(i):\n",
    "        file.write(str(keys[j]) + \" \" + str(quantities[j]) + \"\\n\")\n",
    "    file.close()\n"
   ]
  },
  {
   "cell_type": "code",
   "execution_count": 7,
   "metadata": {},
   "outputs": [],
   "source": [
    "# generating test cases for rb\n",
    "for i in [5, 25]: #500, 1000, 2500, 5000, 10000, 25000, 50000, 100000, 150000, 200000,\n",
    "          #250000, 500000, 750000, 1000000, 2500000, 5000000]:\n",
    "    s = i\n",
    "    keys       = np.random.default_rng().choice(s*100, size=s, replace=False)\n",
    "    quantities = np.random.default_rng().choice(200,   size=s, replace=True)\n",
    "    file = open(f'testCases/rb{i}.txt', 'w')\n",
    "    file.write(str(i) + f\" {round(-35.282001, 3)} {round(149.128998, 3)}\" + \"\\n\")\n",
    "    for j in range(i):\n",
    "        file.write(str(keys[j]) + \" \" + str(quantities[j]) + \"\\n\")\n",
    "    file.close()\n"
   ]
  },
  {
   "cell_type": "code",
   "execution_count": null,
   "metadata": {},
   "outputs": [],
   "source": []
  }
 ],
 "metadata": {
  "kernelspec": {
   "display_name": "Python 3",
   "language": "python",
   "name": "python3"
  },
  "language_info": {
   "codemirror_mode": {
    "name": "ipython",
    "version": 3
   },
   "file_extension": ".py",
   "mimetype": "text/x-python",
   "name": "python",
   "nbconvert_exporter": "python",
   "pygments_lexer": "ipython3",
   "version": "3.7.1"
  }
 },
 "nbformat": 4,
 "nbformat_minor": 4
}
