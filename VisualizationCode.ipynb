{
 "cells": [
  {
   "cell_type": "markdown",
   "metadata": {},
   "source": [
    "# COMP3600/6466 Algorithms\n",
    "## IdealAmazon\n",
    "This file is designed to plot the output from the IdealAmazon project. It uses geojson and will need to open another tab on your browser to display the results."
   ]
  },
  {
   "cell_type": "markdown",
   "metadata": {},
   "source": [
    "## Import packages and data"
   ]
  },
  {
   "cell_type": "code",
   "execution_count": 42,
   "metadata": {},
   "outputs": [],
   "source": [
    "import pandas as pd\n",
    "from geojson import LineString, Point, Feature, FeatureCollection\n",
    "import geojsonio\n",
    "import json\n"
   ]
  },
  {
   "cell_type": "code",
   "execution_count": 58,
   "metadata": {},
   "outputs": [],
   "source": [
    "route = pd.read_csv(\"output.csv\")\n",
    "route.Latitude = route.Latitude.map(abs)\n",
    "route = route.head(1)"
   ]
  },
  {
   "cell_type": "markdown",
   "metadata": {},
   "source": [
    "## GeoData Visualization"
   ]
  },
  {
   "cell_type": "code",
   "execution_count": 59,
   "metadata": {},
   "outputs": [],
   "source": [
    "def visualize() -> None:\n",
    "    l = [tuple([route.iloc[i].Latitude, route.iloc[i].Longitude]) for i in range(len(route))]\n",
    "    print(l)\n",
    "    r = Feature(geometry=LineString(l),\n",
    "                    properties={\"name\": \"This is our route\",\n",
    "                                \"stroke\": \"#8B0000\"})\n",
    "    print(r)\n",
    "    p = [Feature(geometry=Point(e), \n",
    "                      properties={\"name\": f\"Place {i}\",\n",
    "                                  \"marker-symbol\": int(str(i)[-1]),\n",
    "                                  \"marker-color\": \"#00008B\"})\n",
    "              for i, e in enumerate(l)]\n",
    "    print(p)\n",
    "    feature_collection = FeatureCollection(features=[r] + p)\n",
    "    geojsonio.display(json.dumps(feature_collection));"
   ]
  },
  {
   "cell_type": "code",
   "execution_count": 61,
   "metadata": {},
   "outputs": [
    {
     "name": "stdout",
     "output_type": "stream",
     "text": [
      "[(35.282, 149.129)]\n",
      "{\"geometry\": {\"coordinates\": [[35.282, 149.129]], \"type\": \"LineString\"}, \"properties\": {\"name\": \"This is our route\", \"stroke\": \"#8B0000\"}, \"type\": \"Feature\"}\n",
      "[{\"geometry\": {\"coordinates\": [35.282, 149.129], \"type\": \"Point\"}, \"properties\": {\"marker-color\": \"#00008B\", \"marker-symbol\": 0, \"name\": \"Place 0\"}, \"type\": \"Feature\"}]\n"
     ]
    }
   ],
   "source": [
    "visualize()"
   ]
  },
  {
   "cell_type": "code",
   "execution_count": null,
   "metadata": {},
   "outputs": [],
   "source": []
  }
 ],
 "metadata": {
  "kernelspec": {
   "display_name": "Python 3",
   "language": "python",
   "name": "python3"
  },
  "language_info": {
   "codemirror_mode": {
    "name": "ipython",
    "version": 3
   },
   "file_extension": ".py",
   "mimetype": "text/x-python",
   "name": "python",
   "nbconvert_exporter": "python",
   "pygments_lexer": "ipython3",
   "version": "3.7.1"
  }
 },
 "nbformat": 4,
 "nbformat_minor": 4
}
